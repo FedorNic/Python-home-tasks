{
 "cells": [
  {
   "cell_type": "markdown",
   "id": "93282d27",
   "metadata": {},
   "source": [
    "# Дана функция f(x) = 5x^2 + 10x - 30\n"
   ]
  },
  {
   "cell_type": "markdown",
   "id": "7788cbad",
   "metadata": {},
   "source": [
    "## 1.   Определить корни\n"
   ]
  },
  {
   "cell_type": "code",
   "execution_count": 1,
   "id": "a70722a2",
   "metadata": {},
   "outputs": [
    {
     "ename": "NotImplementedError",
     "evalue": "multiple generators [x, sin(cos(x))]\nNo algorithms are implemented to solve equation -12*x**4*sin(cos(x)) - 18*x**3 + 5*x**2 + 10*x - 30",
     "output_type": "error",
     "traceback": [
      "\u001b[1;31m---------------------------------------------------------------------------\u001b[0m",
      "\u001b[1;31mNotImplementedError\u001b[0m                       Traceback (most recent call last)",
      "Input \u001b[1;32mIn [1]\u001b[0m, in \u001b[0;36m<cell line: 5>\u001b[1;34m()\u001b[0m\n\u001b[0;32m      3\u001b[0m x \u001b[38;5;241m=\u001b[39m Symbol(\u001b[38;5;124m'\u001b[39m\u001b[38;5;124mx\u001b[39m\u001b[38;5;124m'\u001b[39m)\n\u001b[0;32m      4\u001b[0m func\u001b[38;5;241m=\u001b[39m\u001b[38;5;241m-\u001b[39m\u001b[38;5;241m12\u001b[39m\u001b[38;5;241m*\u001b[39mx\u001b[38;5;241m*\u001b[39m\u001b[38;5;241m*\u001b[39m\u001b[38;5;241m4\u001b[39m\u001b[38;5;241m*\u001b[39msin(cos(x))\u001b[38;5;241m-\u001b[39m\u001b[38;5;241m18\u001b[39m\u001b[38;5;241m*\u001b[39mx\u001b[38;5;241m*\u001b[39m\u001b[38;5;241m*\u001b[39m\u001b[38;5;241m3\u001b[39m\u001b[38;5;241m+\u001b[39m\u001b[38;5;241m5\u001b[39m\u001b[38;5;241m*\u001b[39mx\u001b[38;5;241m*\u001b[39m\u001b[38;5;241m*\u001b[39m\u001b[38;5;241m2\u001b[39m\u001b[38;5;241m+\u001b[39m\u001b[38;5;241m10\u001b[39m\u001b[38;5;241m*\u001b[39mx\u001b[38;5;241m-\u001b[39m\u001b[38;5;241m30\u001b[39m\n\u001b[1;32m----> 5\u001b[0m y\u001b[38;5;241m=\u001b[39m\u001b[43msolve\u001b[49m\u001b[43m(\u001b[49m\u001b[43mfunc\u001b[49m\u001b[43m)\u001b[49m\n\u001b[0;32m      6\u001b[0m x1\u001b[38;5;241m=\u001b[39m\u001b[38;5;28mfloat\u001b[39m(y[\u001b[38;5;241m0\u001b[39m])\n\u001b[0;32m      7\u001b[0m x2\u001b[38;5;241m=\u001b[39m\u001b[38;5;28mfloat\u001b[39m(y[\u001b[38;5;241m1\u001b[39m])\n",
      "File \u001b[1;32m~\\AppData\\Local\\Programs\\Python\\Python310\\lib\\site-packages\\sympy\\solvers\\solvers.py:1106\u001b[0m, in \u001b[0;36msolve\u001b[1;34m(f, *symbols, **flags)\u001b[0m\n\u001b[0;32m   1102\u001b[0m \u001b[38;5;66;03m#\u001b[39;00m\n\u001b[0;32m   1103\u001b[0m \u001b[38;5;66;03m# try to get a solution\u001b[39;00m\n\u001b[0;32m   1104\u001b[0m \u001b[38;5;66;03m###########################################################################\u001b[39;00m\n\u001b[0;32m   1105\u001b[0m \u001b[38;5;28;01mif\u001b[39;00m bare_f:\n\u001b[1;32m-> 1106\u001b[0m     solution \u001b[38;5;241m=\u001b[39m _solve(f[\u001b[38;5;241m0\u001b[39m], \u001b[38;5;241m*\u001b[39msymbols, \u001b[38;5;241m*\u001b[39m\u001b[38;5;241m*\u001b[39mflags)\n\u001b[0;32m   1107\u001b[0m \u001b[38;5;28;01melse\u001b[39;00m:\n\u001b[0;32m   1108\u001b[0m     solution \u001b[38;5;241m=\u001b[39m _solve_system(f, symbols, \u001b[38;5;241m*\u001b[39m\u001b[38;5;241m*\u001b[39mflags)\n",
      "File \u001b[1;32m~\\AppData\\Local\\Programs\\Python\\Python310\\lib\\site-packages\\sympy\\solvers\\solvers.py:1720\u001b[0m, in \u001b[0;36m_solve\u001b[1;34m(f, *symbols, **flags)\u001b[0m\n\u001b[0;32m   1717\u001b[0m \u001b[38;5;66;03m# ----------- end of fallback ----------------------------\u001b[39;00m\n\u001b[0;32m   1719\u001b[0m \u001b[38;5;28;01mif\u001b[39;00m result \u001b[38;5;129;01mis\u001b[39;00m \u001b[38;5;28;01mFalse\u001b[39;00m:\n\u001b[1;32m-> 1720\u001b[0m     \u001b[38;5;28;01mraise\u001b[39;00m \u001b[38;5;167;01mNotImplementedError\u001b[39;00m(\u001b[38;5;124m'\u001b[39m\u001b[38;5;130;01m\\n\u001b[39;00m\u001b[38;5;124m'\u001b[39m\u001b[38;5;241m.\u001b[39mjoin([msg, not_impl_msg \u001b[38;5;241m%\u001b[39m f]))\n\u001b[0;32m   1722\u001b[0m \u001b[38;5;28;01mif\u001b[39;00m flags\u001b[38;5;241m.\u001b[39mget(\u001b[38;5;124m'\u001b[39m\u001b[38;5;124msimplify\u001b[39m\u001b[38;5;124m'\u001b[39m, \u001b[38;5;28;01mTrue\u001b[39;00m):\n\u001b[0;32m   1723\u001b[0m     result \u001b[38;5;241m=\u001b[39m \u001b[38;5;28mlist\u001b[39m(\u001b[38;5;28mmap\u001b[39m(simplify, result))\n",
      "\u001b[1;31mNotImplementedError\u001b[0m: multiple generators [x, sin(cos(x))]\nNo algorithms are implemented to solve equation -12*x**4*sin(cos(x)) - 18*x**3 + 5*x**2 + 10*x - 30"
     ]
    }
   ],
   "source": [
    "from sympy import *\n",
    "\n",
    "x = Symbol('x')\n",
    "func=-12*x**4*sin(cos(x))-18*x**3+5*x**2+10*x-30\n",
    "y=solve(func)\n",
    "x1=float(y[0])\n",
    "x2=float(y[1])\n",
    "print(x1,x2)"
   ]
  },
  {
   "cell_type": "markdown",
   "id": "99dc5ee3",
   "metadata": {},
   "source": [
    "## 2.   Найти интервалы, на которых функция возрастает\n",
    "\n"
   ]
  },
  {
   "cell_type": "code",
   "execution_count": null,
   "id": "2c05b425",
   "metadata": {},
   "outputs": [],
   "source": [
    "fd=diff(func)\n",
    "print(solve(0<fd))"
   ]
  },
  {
   "cell_type": "markdown",
   "id": "76108340",
   "metadata": {},
   "source": [
    "## 3.\tНайти интервалы, на которых функция убывает"
   ]
  },
  {
   "cell_type": "code",
   "execution_count": null,
   "id": "eaa2a286",
   "metadata": {},
   "outputs": [],
   "source": [
    "print(solve(fd<0))"
   ]
  },
  {
   "cell_type": "markdown",
   "id": "07bb5f57",
   "metadata": {},
   "source": [
    "## 4.\tПостроить график"
   ]
  },
  {
   "cell_type": "code",
   "execution_count": null,
   "id": "f4c3a334",
   "metadata": {},
   "outputs": [],
   "source": [
    "import matplotlib.pyplot as plt\n",
    "list_y=[]\n",
    "for i in range(-5,6):\n",
    "    x=i\n",
    "    y=5*x**2+10*x-30\n",
    "    list_y.append(y)\n",
    "print(list_y)\n",
    "plt.plot(range(-5,6),[0,0,0,0,0,0,0,0,0,0,0])\n",
    "plt.plot(range(-5,6),list_y)"
   ]
  },
  {
   "cell_type": "markdown",
   "id": "a11ae732",
   "metadata": {},
   "source": [
    "## 5.\tВычислить вершину"
   ]
  },
  {
   "cell_type": "code",
   "execution_count": null,
   "id": "a99b08c7",
   "metadata": {},
   "outputs": [],
   "source": [
    "corni=solve(fd)\n",
    "top=corni[0]\n",
    "x=top\n",
    "y=-12*x**4*sin(cos(x))-18*x**3+5*x**2+10*x-30\n",
    "print(top,y)\n"
   ]
  },
  {
   "cell_type": "markdown",
   "id": "2c434dc2",
   "metadata": {},
   "source": [
    "## 6.\tОпределить промежутки, на котором f > 0"
   ]
  },
  {
   "cell_type": "code",
   "execution_count": null,
   "id": "406e34f4",
   "metadata": {},
   "outputs": [],
   "source": [
    "solve(0<func)"
   ]
  },
  {
   "cell_type": "markdown",
   "id": "20dc9379",
   "metadata": {},
   "source": [
    "## 7.\tОпределить промежутки, на котором f < 0"
   ]
  },
  {
   "cell_type": "code",
   "execution_count": null,
   "id": "a427d3d1",
   "metadata": {},
   "outputs": [],
   "source": [
    "solve(func<0)"
   ]
  }
 ],
 "metadata": {
  "interpreter": {
   "hash": "f4b3cdda7284f2bff1d1f326f9a5b4add56ecdb00d448f650ad452bb1214d98d"
  },
  "kernelspec": {
   "display_name": "Python 3 (ipykernel)",
   "language": "python",
   "name": "python3"
  },
  "language_info": {
   "codemirror_mode": {
    "name": "ipython",
    "version": 3
   },
   "file_extension": ".py",
   "mimetype": "text/x-python",
   "name": "python",
   "nbconvert_exporter": "python",
   "pygments_lexer": "ipython3",
   "version": "3.10.4"
  }
 },
 "nbformat": 4,
 "nbformat_minor": 5
}
