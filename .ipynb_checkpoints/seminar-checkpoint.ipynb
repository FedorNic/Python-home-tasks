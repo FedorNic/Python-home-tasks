{
 "cells": [
  {
   "cell_type": "markdown",
   "id": "93282d27",
   "metadata": {},
   "source": [
    "# Дана функция f(x) = -8*x**2+3*x+17\n"
   ]
  },
  {
   "cell_type": "markdown",
   "id": "7788cbad",
   "metadata": {},
   "source": [
    "## 1.   Определить корни\n"
   ]
  },
  {
   "cell_type": "code",
   "execution_count": 1,
   "id": "a70722a2",
   "metadata": {},
   "outputs": [
    {
     "name": "stdout",
     "output_type": "stream",
     "text": [
      "[3/16 - sqrt(553)/16, 3/16 + sqrt(553)/16]\n"
     ]
    }
   ],
   "source": [
    "from sympy import *\n",
    "\n",
    "x = Symbol('x')\n",
    "func=-8*x**2+3*x+17\n",
    "y=solve(func)\n",
    "x1=float(y[0])\n",
    "x2=float(y[1])\n",
    "print(y)"
   ]
  },
  {
   "cell_type": "markdown",
   "id": "99dc5ee3",
   "metadata": {},
   "source": [
    "## 2.   Найти интервалы, на которых функция возрастает\n",
    "\n"
   ]
  },
  {
   "cell_type": "code",
   "execution_count": 2,
   "id": "2c05b425",
   "metadata": {},
   "outputs": [
    {
     "name": "stdout",
     "output_type": "stream",
     "text": [
      "(-oo < x) & (x < 3/16)\n"
     ]
    }
   ],
   "source": [
    "fd=diff(func)\n",
    "print(solve(0<fd))"
   ]
  },
  {
   "cell_type": "markdown",
   "id": "76108340",
   "metadata": {},
   "source": [
    "## 3.\tНайти интервалы, на которых функция убывает"
   ]
  },
  {
   "cell_type": "code",
   "execution_count": 3,
   "id": "eaa2a286",
   "metadata": {},
   "outputs": [
    {
     "name": "stdout",
     "output_type": "stream",
     "text": [
      "(3/16 < x) & (x < oo)\n"
     ]
    }
   ],
   "source": [
    "print(solve(fd<0))"
   ]
  },
  {
   "cell_type": "markdown",
   "id": "07bb5f57",
   "metadata": {},
   "source": [
    "## 4.\tПостроить график"
   ]
  },
  {
   "cell_type": "code",
   "execution_count": 7,
   "id": "f4c3a334",
   "metadata": {},
   "outputs": [
    {
     "name": "stdout",
     "output_type": "stream",
     "text": [
      "[-80283, -78688, -77109, -75546, -73999, -72468, -70953, -69454, -67971, -66504, -65053, -63618, -62199, -60796, -59409, -58038, -56683, -55344, -54021, -52714, -51423, -50148, -48889, -47646, -46419, -45208, -44013, -42834, -41671, -40524, -39393, -38278, -37179, -36096, -35029, -33978, -32943, -31924, -30921, -29934, -28963, -28008, -27069, -26146, -25239, -24348, -23473, -22614, -21771, -20944, -20133, -19338, -18559, -17796, -17049, -16318, -15603, -14904, -14221, -13554, -12903, -12268, -11649, -11046, -10459, -9888, -9333, -8794, -8271, -7764, -7273, -6798, -6339, -5896, -5469, -5058, -4663, -4284, -3921, -3574, -3243, -2928, -2629, -2346, -2079, -1828, -1593, -1374, -1171, -984, -813, -658, -519, -396, -289, -198, -123, -64, -21, 6, 17, 12, -9, -46, -99, -168, -253, -354, -471, -604, -753, -918, -1099, -1296, -1509, -1738, -1983, -2244, -2521, -2814, -3123, -3448, -3789, -4146, -4519, -4908, -5313, -5734, -6171, -6624, -7093, -7578, -8079, -8596, -9129, -9678, -10243, -10824, -11421, -12034, -12663, -13308, -13969, -14646, -15339, -16048, -16773, -17514, -18271, -19044, -19833, -20638, -21459, -22296, -23149, -24018, -24903, -25804, -26721, -27654, -28603, -29568, -30549, -31546, -32559, -33588, -34633, -35694, -36771, -37864, -38973, -40098, -41239, -42396, -43569, -44758, -45963, -47184, -48421, -49674, -50943, -52228, -53529, -54846, -56179, -57528, -58893, -60274, -61671, -63084, -64513, -65958, -67419, -68896, -70389, -71898, -73423, -74964, -76521, -78094]\n"
     ]
    },
    {
     "data": {
      "text/plain": [
       "[<matplotlib.lines.Line2D at 0x1f8d8d20fa0>]"
      ]
     },
     "execution_count": 7,
     "metadata": {},
     "output_type": "execute_result"
    },
    {
     "data": {
      "image/png": "[encoded data removed]",
      "text/plain": [
       "<Figure size 432x288 with 1 Axes>"
      ]
     },
     "metadata": {
      "needs_background": "light"
     },
     "output_type": "display_data"
    }
   ],
   "source": [
    "import matplotlib.pyplot as plt\n",
    "list_y=[]\n",
    "for i in range(-100,100):\n",
    "    x=i\n",
    "    y=-8*x**2+3*x+17\n",
    "    list_y.append(y)\n",
    "print(list_y)\n",
    "\n",
    "plt.plot(range(-100,100),list_y)"
   ]
  },
  {
   "cell_type": "markdown",
   "id": "a11ae732",
   "metadata": {},
   "source": [
    "## 5.\tВычислить вершину"
   ]
  },
  {
   "cell_type": "code",
   "execution_count": 4,
   "id": "a99b08c7",
   "metadata": {},
   "outputs": [
    {
     "name": "stdout",
     "output_type": "stream",
     "text": [
      "3/16 553/32\n"
     ]
    }
   ],
   "source": [
    "corni=solve(fd)\n",
    "top=corni[0]\n",
    "x=top\n",
    "y=-8*x**2+3*x+17\n",
    "print(top,y)\n"
   ]
  },
  {
   "cell_type": "markdown",
   "id": "2c434dc2",
   "metadata": {},
   "source": [
    "## 6.\tОпределить промежутки, на котором f > 0"
   ]
  },
  {
   "cell_type": "code",
   "execution_count": 5,
   "id": "406e34f4",
   "metadata": {},
   "outputs": [
    {
     "data": {
      "text/latex": [
       "$\\displaystyle x < \\frac{3}{16} + \\frac{\\sqrt{553}}{16} \\wedge \\frac{3}{16} - \\frac{\\sqrt{553}}{16} < x$"
      ],
      "text/plain": [
       "(x < 3/16 + sqrt(553)/16) & (3/16 - sqrt(553)/16 < x)"
      ]
     },
     "execution_count": 5,
     "metadata": {},
     "output_type": "execute_result"
    }
   ],
   "source": [
    "solve(0<func)"
   ]
  },
  {
   "cell_type": "markdown",
   "id": "20dc9379",
   "metadata": {},
   "source": [
    "## 7.\tОпределить промежутки, на котором f < 0"
   ]
  },
  {
   "cell_type": "code",
   "execution_count": 6,
   "id": "a427d3d1",
   "metadata": {},
   "outputs": [
    {
     "data": {
      "text/latex": [
       "$\\displaystyle \\left(-\\infty < x \\wedge x < \\frac{3}{16} - \\frac{\\sqrt{553}}{16}\\right) \\vee \\left(x < \\infty \\wedge \\frac{3}{16} + \\frac{\\sqrt{553}}{16} < x\\right)$"
      ],
      "text/plain": [
       "((-oo < x) & (x < 3/16 - sqrt(553)/16)) | ((x < oo) & (3/16 + sqrt(553)/16 < x))"
      ]
     },
     "execution_count": 6,
     "metadata": {},
     "output_type": "execute_result"
    }
   ],
   "source": [
    "solve(func<0)"
   ]
  }
 ],
 "metadata": {
  "interpreter": {
   "hash": "f4b3cdda7284f2bff1d1f326f9a5b4add56ecdb00d448f650ad452bb1214d98d"
  },
  "kernelspec": {
   "display_name": "Python 3 (ipykernel)",
   "language": "python",
   "name": "python3"
  },
  "language_info": {
   "codemirror_mode": {
    "name": "ipython",
    "version": 3
   },
   "file_extension": ".py",
   "mimetype": "text/x-python",
   "name": "python",
   "nbconvert_exporter": "python",
   "pygments_lexer": "ipython3",
   "version": "3.10.4"
  }
 },
 "nbformat": 4,
 "nbformat_minor": 5
}
